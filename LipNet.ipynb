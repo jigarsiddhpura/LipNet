{
  "nbformat": 4,
  "nbformat_minor": 0,
  "metadata": {
    "colab": {
      "provenance": [],
      "gpuType": "T4",
      "authorship_tag": "ABX9TyN0XRGI/yTdDaYNl3QXF8ip",
      "include_colab_link": true
    },
    "kernelspec": {
      "name": "python3",
      "display_name": "Python 3"
    },
    "language_info": {
      "name": "python"
    },
    "accelerator": "GPU",
    "gpuClass": "standard"
  },
  "cells": [
    {
      "cell_type": "markdown",
      "metadata": {
        "id": "view-in-github",
        "colab_type": "text"
      },
      "source": [
        "<a href=\"https://colab.research.google.com/github/jigarsiddhpura/LipNet/blob/main/LipNet.ipynb\" target=\"_parent\"><img src=\"https://colab.research.google.com/assets/colab-badge.svg\" alt=\"Open In Colab\"/></a>"
      ]
    },
    {
      "cell_type": "code",
      "execution_count": 1,
      "metadata": {
        "id": "k3u-uDrB553D",
        "colab": {
          "base_uri": "https://localhost:8080/"
        },
        "outputId": "d850b16e-9860-43fe-c5d9-637dcc8c1c3d"
      },
      "outputs": [
        {
          "output_type": "stream",
          "name": "stdout",
          "text": [
            "Looking in indexes: https://pypi.org/simple, https://us-python.pkg.dev/colab-wheels/public/simple/\n",
            "Requirement already satisfied: opencv-python in /usr/local/lib/python3.10/dist-packages (4.7.0.72)\n",
            "Requirement already satisfied: numpy>=1.21.2 in /usr/local/lib/python3.10/dist-packages (from opencv-python) (1.22.4)\n",
            "Looking in indexes: https://pypi.org/simple, https://us-python.pkg.dev/colab-wheels/public/simple/\n",
            "Requirement already satisfied: opencv-contrib-python in /usr/local/lib/python3.10/dist-packages (4.7.0.72)\n",
            "Requirement already satisfied: numpy>=1.17.0 in /usr/local/lib/python3.10/dist-packages (from opencv-contrib-python) (1.22.4)\n",
            "Looking in indexes: https://pypi.org/simple, https://us-python.pkg.dev/colab-wheels/public/simple/\n",
            "Requirement already satisfied: gdown in /usr/local/lib/python3.10/dist-packages (4.6.6)\n",
            "Requirement already satisfied: tqdm in /usr/local/lib/python3.10/dist-packages (from gdown) (4.65.0)\n",
            "Requirement already satisfied: filelock in /usr/local/lib/python3.10/dist-packages (from gdown) (3.12.0)\n",
            "Requirement already satisfied: beautifulsoup4 in /usr/local/lib/python3.10/dist-packages (from gdown) (4.11.2)\n",
            "Requirement already satisfied: six in /usr/local/lib/python3.10/dist-packages (from gdown) (1.16.0)\n",
            "Requirement already satisfied: requests[socks] in /usr/local/lib/python3.10/dist-packages (from gdown) (2.27.1)\n",
            "Requirement already satisfied: soupsieve>1.2 in /usr/local/lib/python3.10/dist-packages (from beautifulsoup4->gdown) (2.4.1)\n",
            "Requirement already satisfied: idna<4,>=2.5 in /usr/local/lib/python3.10/dist-packages (from requests[socks]->gdown) (3.4)\n",
            "Requirement already satisfied: charset-normalizer~=2.0.0 in /usr/local/lib/python3.10/dist-packages (from requests[socks]->gdown) (2.0.12)\n",
            "Requirement already satisfied: certifi>=2017.4.17 in /usr/local/lib/python3.10/dist-packages (from requests[socks]->gdown) (2022.12.7)\n",
            "Requirement already satisfied: urllib3<1.27,>=1.21.1 in /usr/local/lib/python3.10/dist-packages (from requests[socks]->gdown) (1.26.15)\n",
            "Requirement already satisfied: PySocks!=1.5.7,>=1.5.6 in /usr/local/lib/python3.10/dist-packages (from requests[socks]->gdown) (1.7.1)\n"
          ]
        }
      ],
      "source": [
        "!pip install opencv-python\n",
        "!pip install opencv-contrib-python\n",
        "!pip install gdown"
      ]
    },
    {
      "cell_type": "code",
      "source": [
        "import os\n",
        "import tensorflow as tf, gdown\n",
        "import cv2\n",
        "import numpy as np\n",
        "from typing import List\n",
        "from matplotlib import pyplot as plt\n",
        "import imageio #numpy array to gifs\n",
        "from sklearn.preprocessing import StandardScaler"
      ],
      "metadata": {
        "id": "4_fsQqwQ66hW"
      },
      "execution_count": 2,
      "outputs": []
    },
    {
      "cell_type": "code",
      "source": [
        "len(tf.config.experimental.list_physical_devices('GPU'))"
      ],
      "metadata": {
        "id": "bocr49_Fy3ez",
        "colab": {
          "base_uri": "https://localhost:8080/"
        },
        "outputId": "e00cf1c0-9f8b-41be-8216-9ea0148acec5"
      },
      "execution_count": 3,
      "outputs": [
        {
          "output_type": "execute_result",
          "data": {
            "text/plain": [
              "1"
            ]
          },
          "metadata": {},
          "execution_count": 3
        }
      ]
    },
    {
      "cell_type": "code",
      "source": [
        "tf.config.list_physical_devices('GPU')"
      ],
      "metadata": {
        "id": "tLzRG5wQ7sNq",
        "colab": {
          "base_uri": "https://localhost:8080/"
        },
        "outputId": "21685d6e-58f5-408c-b1af-c271dbc6e900"
      },
      "execution_count": 4,
      "outputs": [
        {
          "output_type": "execute_result",
          "data": {
            "text/plain": [
              "[PhysicalDevice(name='/physical_device:GPU:0', device_type='GPU')]"
            ]
          },
          "metadata": {},
          "execution_count": 4
        }
      ]
    },
    {
      "cell_type": "code",
      "source": [
        "physical_devices = tf.config.list_physical_devices('GPU')\n",
        "try:\n",
        "  tf.config.experimental.set_memory_growth(physical_devices[0],True)\n",
        "except:\n",
        "  pass"
      ],
      "metadata": {
        "id": "nAjdJLPJ9x5Y"
      },
      "execution_count": 5,
      "outputs": []
    },
    {
      "cell_type": "markdown",
      "source": [
        "### BUILD DATA LOADING FUNCTIIONS"
      ],
      "metadata": {
        "id": "aLK4ZkXgdw0j"
      }
    },
    {
      "cell_type": "code",
      "source": [
        "import gdown # to grab data @ gdrive"
      ],
      "metadata": {
        "id": "MnPXXKLf_1mT"
      },
      "execution_count": 6,
      "outputs": []
    },
    {
      "cell_type": "code",
      "source": [
        "from google.colab import drive\n",
        "drive.mount('/content/drive')"
      ],
      "metadata": {
        "id": "mES5-753czdn",
        "colab": {
          "base_uri": "https://localhost:8080/"
        },
        "outputId": "fa0bd3ac-b2f4-400b-fe33-e7545461af8a"
      },
      "execution_count": 7,
      "outputs": [
        {
          "output_type": "stream",
          "name": "stdout",
          "text": [
            "Mounted at /content/drive\n"
          ]
        }
      ]
    },
    {
      "cell_type": "code",
      "source": [
        "url = 'https://drive.google.com/uc?id=1YlvpDLix3S-U8fd-gqRwPcWXAXm8JwjL'\n",
        "# output = 'data.zip'\n",
        "# gdown.download(url, output, quiet=False)\n",
        "# gdown.extractall('data.zip')\n",
        "# !gdown https://drive.google.com/file/d/https://drive.google.com/uc?id=1YlvpDLix3S-U8fd-gqRwPcWXAXm8JwjL/view?usp=sharing"
      ],
      "metadata": {
        "id": "P2EH2jCNAQXL"
      },
      "execution_count": 8,
      "outputs": []
    },
    {
      "cell_type": "code",
      "source": [
        "\n",
        "def load_video(path:str) -> List[float]:\n",
        "  cap = cv2.VideoCapture(path) #cap = ptr to video\n",
        "  frames = []\n",
        "  for _ in range(int(cap.get(cv2.CAP_PROP_FRAME_COUNT))):\n",
        "    ret, frame = cap.read()\n",
        "    # ret = 1 -> read successfully , 0 -> read failed\n",
        "    frame = tf.image.rgb_to_grayscale(frame)\n",
        "    frames.append(frame[190:236,80:220,:])\n",
        "  cap.release()\n",
        "\n",
        "  mean = tf.math.reduce_mean(frames)\n",
        "  std = tf.math.reduce_std(tf.cast(frames, tf.float32))\n",
        "  return tf.cast((frames - mean),tf.float32) / std\n",
        "\n",
        "  # using StandardScaler() to standardize will give different results\n",
        "  # scaler = StandardScaler()\n",
        "  # scaler.fit_transform(frames)"
      ],
      "metadata": {
        "id": "cSA96s7EOvL0"
      },
      "execution_count": 9,
      "outputs": []
    },
    {
      "cell_type": "code",
      "source": [
        "vocab = [x for x in \"abcdefghijklmnopqrstuvwxyz'?!123456789 \"]"
      ],
      "metadata": {
        "id": "UmydNelPbRZb"
      },
      "execution_count": 10,
      "outputs": []
    },
    {
      "cell_type": "code",
      "source": [
        "# \"Out-Of-Vocabulary\" token =  oov_token, if a char is not in vocab \"\" means map the char with 0\n",
        "\n",
        "char_to_num = tf.keras.layers.StringLookup(vocabulary=vocab, oov_token=\"\")\n",
        "num_to_char = tf.keras.layers.StringLookup(\n",
        "    vocabulary=char_to_num.get_vocabulary(), oov_token=\"\", invert=True)\n",
        "\n",
        "print(\n",
        "    f\"The vocabulary is :{char_to_num.get_vocabulary()}\"\n",
        "    f\"(size ={char_to_num.vocabulary_size()})\"\n",
        ")"
      ],
      "metadata": {
        "id": "tOG4k65Yc4jk",
        "colab": {
          "base_uri": "https://localhost:8080/"
        },
        "outputId": "b3050fe3-fba7-4b78-c484-00ec8a906994"
      },
      "execution_count": 11,
      "outputs": [
        {
          "output_type": "stream",
          "name": "stdout",
          "text": [
            "The vocabulary is :['', 'a', 'b', 'c', 'd', 'e', 'f', 'g', 'h', 'i', 'j', 'k', 'l', 'm', 'n', 'o', 'p', 'q', 'r', 's', 't', 'u', 'v', 'w', 'x', 'y', 'z', \"'\", '?', '!', '1', '2', '3', '4', '5', '6', '7', '8', '9', ' '](size =40)\n"
          ]
        }
      ]
    },
    {
      "cell_type": "code",
      "source": [
        "print('sme') if vocab == char_to_num.get_vocabulary() else print('not sme')"
      ],
      "metadata": {
        "id": "tJPC9XcCaJig",
        "colab": {
          "base_uri": "https://localhost:8080/"
        },
        "outputId": "1c0724e9-a640-486b-950a-833d3d41dd55"
      },
      "execution_count": 12,
      "outputs": [
        {
          "output_type": "stream",
          "name": "stdout",
          "text": [
            "not sme\n"
          ]
        }
      ]
    },
    {
      "cell_type": "code",
      "source": [
        "char_to_num(['b','y','',' '])"
      ],
      "metadata": {
        "id": "zJreKZV4hO7R",
        "colab": {
          "base_uri": "https://localhost:8080/"
        },
        "outputId": "a08a3326-2663-44ca-debb-d3e2dfcae1f7"
      },
      "execution_count": 13,
      "outputs": [
        {
          "output_type": "execute_result",
          "data": {
            "text/plain": [
              "<tf.Tensor: shape=(4,), dtype=int64, numpy=array([ 2, 25,  0, 39])>"
            ]
          },
          "metadata": {},
          "execution_count": 13
        }
      ]
    },
    {
      "cell_type": "code",
      "source": [
        "num_to_char([2, 4, 6])\n",
        "# The b prefix before each string indicates that they are stored as bytes, which is a common way to represent strings in TensorFlow."
      ],
      "metadata": {
        "id": "SADWu_sihdmo",
        "colab": {
          "base_uri": "https://localhost:8080/"
        },
        "outputId": "04921be4-d583-4e1f-fe39-ccdd7603e146"
      },
      "execution_count": 14,
      "outputs": [
        {
          "output_type": "execute_result",
          "data": {
            "text/plain": [
              "<tf.Tensor: shape=(3,), dtype=string, numpy=array([b'b', b'd', b'f'], dtype=object)>"
            ]
          },
          "metadata": {},
          "execution_count": 14
        }
      ]
    },
    {
      "cell_type": "code",
      "source": [
        "\n",
        "def load_alignments(path:str) -> List[float]:\n",
        "  with open(path, 'r') as f:\n",
        "    lines = f.readlines()\n",
        "  tokens = []\n",
        "  for line in lines:\n",
        "    words = line.split()\n",
        "    if words[2]!='sil':\n",
        "      tokens = [*tokens,' ',words[2]]\n",
        "\n",
        "  # return char_to_num(list(''.join(tokens)))\n",
        "\n",
        "  # UTF-8 is the most commonly used encoding scheme for Unicode text\n",
        "  return char_to_num(tf.reshape(tf.strings.unicode_split(tokens, input_encoding='UTF-8'),(-1)))[1:]"
      ],
      "metadata": {
        "id": "1LAIaEuIoKgG"
      },
      "execution_count": 15,
      "outputs": []
    },
    {
      "cell_type": "code",
      "source": [
        "load_alignments('/content/drive/MyDrive/ML-PROJECTS/data/alignments/s1/bbaf2n.align')"
      ],
      "metadata": {
        "id": "k6tJEQt2dTk8",
        "colab": {
          "base_uri": "https://localhost:8080/"
        },
        "outputId": "4dca8009-f0c2-49f4-d5c9-6a5990818e48"
      },
      "execution_count": 16,
      "outputs": [
        {
          "output_type": "execute_result",
          "data": {
            "text/plain": [
              "<tf.Tensor: shape=(21,), dtype=int64, numpy=\n",
              "array([ 2,  9, 14, 39,  2, 12, 21,  5, 39,  1, 20, 39,  6, 39, 20, 23, 15,\n",
              "       39, 14, 15, 23])>"
            ]
          },
          "metadata": {},
          "execution_count": 16
        }
      ]
    },
    {
      "cell_type": "code",
      "source": [
        "def load_data(path: str):\n",
        "  path = bytes.decode(path.numpy()) \n",
        "  file_name = path.split('/')[-1].split('.')[0]  # path splitting for windows\n",
        "  video_path = os.path.join('/content','drive','MyDrive','ML-PROJECTS','data','s1',f'{file_name}.mpg')\n",
        "  print(video_path)\n",
        "  alignment_path = os.path.join('/content','drive','MyDrive','ML-PROJECTS','data','alignments','s1',f'{file_name}.align')\n",
        "  frames = load_video(video_path)\n",
        "  # frames = np.squeeze(frames, axis=-1)\n",
        "  alignments = load_alignments(alignment_path)\n",
        "\n",
        "  return frames, alignments"
      ],
      "metadata": {
        "id": "7ut3wr04oLAX"
      },
      "execution_count": 17,
      "outputs": []
    },
    {
      "cell_type": "code",
      "source": [
        "test_path = '/content/drive/MyDrive/ML-PROJECTS/data/s1/bbaf2n.mpg'"
      ],
      "metadata": {
        "id": "cc9-wPSgxrOu"
      },
      "execution_count": 18,
      "outputs": []
    },
    {
      "cell_type": "code",
      "source": [
        "tf.convert_to_tensor(test_path).numpy().decode('UTF-8').split('/')[-1].split('.')[0]"
      ],
      "metadata": {
        "id": "GeRl4zpRyY2D",
        "colab": {
          "base_uri": "https://localhost:8080/",
          "height": 35
        },
        "outputId": "18f9c1ed-7f73-473f-aeac-6e3700a4c054"
      },
      "execution_count": 19,
      "outputs": [
        {
          "output_type": "execute_result",
          "data": {
            "text/plain": [
              "'bbaf2n'"
            ],
            "application/vnd.google.colaboratory.intrinsic+json": {
              "type": "string"
            }
          },
          "metadata": {},
          "execution_count": 19
        }
      ]
    },
    {
      "cell_type": "code",
      "source": [
        "frames, alignments = load_data(tf.convert_to_tensor(test_path))\n",
        "plt.imshow(frames[10])"
      ],
      "metadata": {
        "id": "tsNvqjc2yeTG",
        "colab": {
          "base_uri": "https://localhost:8080/",
          "height": 262
        },
        "outputId": "deac4371-8437-40ee-f82e-81947219acaf"
      },
      "execution_count": 20,
      "outputs": [
        {
          "output_type": "stream",
          "name": "stdout",
          "text": [
            "/content/drive/MyDrive/ML-PROJECTS/data/s1/bbaf2n.mpg\n"
          ]
        },
        {
          "output_type": "execute_result",
          "data": {
            "text/plain": [
              "<matplotlib.image.AxesImage at 0x7ff3605881f0>"
            ]
          },
          "metadata": {},
          "execution_count": 20
        },
        {
          "output_type": "display_data",
          "data": {
            "text/plain": [
              "<Figure size 640x480 with 1 Axes>"
            ],
            "image/png": "[encoded data removed]"
          },
          "metadata": {}
        }
      ]
    },
    {
      "cell_type": "code",
      "source": [
        "alignments"
      ],
      "metadata": {
        "id": "FDe4M-o06FkY",
        "colab": {
          "base_uri": "https://localhost:8080/"
        },
        "outputId": "719e73ec-8c8b-4858-add9-f06a3521dca2"
      },
      "execution_count": 21,
      "outputs": [
        {
          "output_type": "execute_result",
          "data": {
            "text/plain": [
              "<tf.Tensor: shape=(21,), dtype=int64, numpy=\n",
              "array([ 2,  9, 14, 39,  2, 12, 21,  5, 39,  1, 20, 39,  6, 39, 20, 23, 15,\n",
              "       39, 14, 15, 23])>"
            ]
          },
          "metadata": {},
          "execution_count": 21
        }
      ]
    },
    {
      "cell_type": "code",
      "source": [
        "# num_to_char(alignments.numpy())\n",
        "tf.strings.reduce_join([bytes.decode(x) for x in num_to_char(alignments.numpy()).numpy() ])"
      ],
      "metadata": {
        "id": "PAWGHSXP0-BO",
        "colab": {
          "base_uri": "https://localhost:8080/"
        },
        "outputId": "e3b8d3de-d5f4-48a0-8158-f9df6a8b67b9"
      },
      "execution_count": 22,
      "outputs": [
        {
          "output_type": "execute_result",
          "data": {
            "text/plain": [
              "<tf.Tensor: shape=(), dtype=string, numpy=b'bin blue at f two now'>"
            ]
          },
          "metadata": {},
          "execution_count": 22
        }
      ]
    },
    {
      "cell_type": "code",
      "source": [
        "def mappable_function(path:str) -> List[str] :\n",
        "  result = tf.py_function(load_data, [path], (tf.float32, tf.int64))\n",
        "  return result\n",
        "\n",
        "# use mappable functions in TensorFlow when you need to apply a transformation to each element of a LARGE dataset.\n",
        "# By using mappable functions in combination with tf.data.Dataset, you can create a pipeline that can efficiently handle large and complex datasets"
      ],
      "metadata": {
        "id": "hfsPL49H2dGw"
      },
      "execution_count": 23,
      "outputs": []
    },
    {
      "cell_type": "markdown",
      "source": [
        "###2. Create Data PipeLine"
      ],
      "metadata": {
        "id": "lwx5BOy25jgC"
      }
    },
    {
      "cell_type": "code",
      "source": [
        "data = tf.data.Dataset.list_files('/content/drive/MyDrive/ML-PROJECTS/data/s1/*.mpg')\n",
        "#  data is a dataset of file paths, not a list of file paths.\n",
        "\n",
        "data = data.shuffle(500, reshuffle_each_iteration=False)\n",
        "data = data.map(mappable_function)\n",
        "data = data.padded_batch(2, padded_shapes=([75,None,None,None],[40]))\n",
        "# frames are not padded , alignment len if < then 40 , 0 will be padded\n",
        "# frames: numpy array of shape (num_frames, height, width, channels)\n",
        "\n",
        "data = data.prefetch(tf.data.AUTOTUNE)\n",
        "# splitting data\n",
        "train = data.take(450)\n",
        "test_data = data.skip(450)"
      ],
      "metadata": {
        "id": "A4DVSJ1l5Lr5"
      },
      "execution_count": 24,
      "outputs": []
    },
    {
      "cell_type": "code",
      "source": [
        "# converts  tf dataset into py generator\n",
        "frames, alignments = data.as_numpy_iterator().next()\n",
        "print(alignments)"
      ],
      "metadata": {
        "id": "ML_H-vn87Nvm",
        "colab": {
          "base_uri": "https://localhost:8080/"
        },
        "outputId": "d83d7073-529d-4071-f2ce-98673bcfcf3c"
      },
      "execution_count": 25,
      "outputs": [
        {
          "output_type": "stream",
          "name": "stdout",
          "text": [
            "/content/drive/MyDrive/ML-PROJECTS/data/s1/lrbr7a.mpg\n",
            "/content/drive/MyDrive/ML-PROJECTS/data/s1/pgad9s.mpg\n",
            "/content/drive/MyDrive/ML-PROJECTS/data/s1/pbiv1a.mpg\n",
            "[[12  1 25 39 18  5  4 39  2 25 39 18 39 19  5 22  5 14 39  1  7  1  9 14\n",
            "   0  0  0  0  0  0  0  0  0  0  0  0  0  0  0  0]\n",
            " [16 12  1  3  5 39  7 18  5  5 14 39  1 20 39  4 39 14  9 14  5 39 19 15\n",
            "  15 14  0  0  0  0  0  0  0  0  0  0  0  0  0  0]]\n"
          ]
        }
      ]
    },
    {
      "cell_type": "code",
      "source": [
        "len(frames)"
      ],
      "metadata": {
        "id": "qluZWE0DviHR",
        "colab": {
          "base_uri": "https://localhost:8080/"
        },
        "outputId": "fc002b3e-d329-475c-db32-6dcc0c5d25e8"
      },
      "execution_count": 26,
      "outputs": [
        {
          "output_type": "execute_result",
          "data": {
            "text/plain": [
              "2"
            ]
          },
          "metadata": {},
          "execution_count": 26
        }
      ]
    },
    {
      "cell_type": "code",
      "source": [
        "alignments"
      ],
      "metadata": {
        "id": "YF1BomZGsrwe",
        "colab": {
          "base_uri": "https://localhost:8080/"
        },
        "outputId": "772d45d5-c69b-418e-cdf6-9f77f6e8df4f"
      },
      "execution_count": 27,
      "outputs": [
        {
          "output_type": "execute_result",
          "data": {
            "text/plain": [
              "array([[12,  1, 25, 39, 18,  5,  4, 39,  2, 25, 39, 18, 39, 19,  5, 22,\n",
              "         5, 14, 39,  1,  7,  1,  9, 14,  0,  0,  0,  0,  0,  0,  0,  0,\n",
              "         0,  0,  0,  0,  0,  0,  0,  0],\n",
              "       [16, 12,  1,  3,  5, 39,  7, 18,  5,  5, 14, 39,  1, 20, 39,  4,\n",
              "        39, 14,  9, 14,  5, 39, 19, 15, 15, 14,  0,  0,  0,  0,  0,  0,\n",
              "         0,  0,  0,  0,  0,  0,  0,  0]])"
            ]
          },
          "metadata": {},
          "execution_count": 27
        }
      ]
    },
    {
      "cell_type": "code",
      "source": [
        "test = data.as_numpy_iterator()\n",
        "val = test.next()\n",
        "val[0].shape\n",
        "# val[0] includes frames, val[1] includes alignments"
      ],
      "metadata": {
        "id": "HFsQ8k0uswPj",
        "colab": {
          "base_uri": "https://localhost:8080/"
        },
        "outputId": "421de362-6a34-4200-bd42-f74911264bd4"
      },
      "execution_count": 36,
      "outputs": [
        {
          "output_type": "stream",
          "name": "stdout",
          "text": [
            "/content/drive/MyDrive/ML-PROJECTS/data/s1/pbwp9a.mpg\n",
            "/content/drive/MyDrive/ML-PROJECTS/data/s1/pbbi9s.mpg\n"
          ]
        },
        {
          "output_type": "execute_result",
          "data": {
            "text/plain": [
              "(2, 75, 46, 140, 1)"
            ]
          },
          "metadata": {},
          "execution_count": 36
        },
        {
          "output_type": "stream",
          "name": "stdout",
          "text": [
            "/content/drive/MyDrive/ML-PROJECTS/data/s1/lwir5a.mpg\n"
          ]
        }
      ]
    },
    {
      "cell_type": "code",
      "source": [
        "val[1]"
      ],
      "metadata": {
        "colab": {
          "base_uri": "https://localhost:8080/"
        },
        "id": "FK8hNW5HJi0_",
        "outputId": "f2f793be-0c40-4e3f-abee-37a3920e70a5"
      },
      "execution_count": 38,
      "outputs": [
        {
          "output_type": "execute_result",
          "data": {
            "text/plain": [
              "array([[16, 12,  1,  3,  5, 39,  2, 12, 21,  5, 39, 23,  9, 20,  8, 39,\n",
              "        16, 39, 14,  9, 14,  5, 39,  1,  7,  1,  9, 14,  0,  0,  0,  0,\n",
              "         0,  0,  0,  0,  0,  0,  0,  0],\n",
              "       [16, 12,  1,  3,  5, 39,  2, 12, 21,  5, 39,  2, 25, 39,  9, 39,\n",
              "        14,  9, 14,  5, 39, 19, 15, 15, 14,  0,  0,  0,  0,  0,  0,  0,\n",
              "         0,  0,  0,  0,  0,  0,  0,  0]])"
            ]
          },
          "metadata": {},
          "execution_count": 38
        }
      ]
    },
    {
      "cell_type": "code",
      "source": [
        "imageio.mimsave('/content/drive/MyDrive/ML-PROJECTS/data/animation.gif', val[0][1], fps=10)"
      ],
      "metadata": {
        "id": "O2GTT5C7v5f7"
      },
      "execution_count": null,
      "outputs": []
    },
    {
      "cell_type": "code",
      "source": [
        "# 0: videos, 0:1st video of the batch(0-1), 0: return 1st frame in the video(0-74)\n",
        "plt.imshow(val[0][1][70])"
      ],
      "metadata": {
        "id": "iQWdQsyXwtpS",
        "colab": {
          "base_uri": "https://localhost:8080/",
          "height": 244
        },
        "outputId": "e250feff-7d40-4929-b704-0d6782b04285"
      },
      "execution_count": 39,
      "outputs": [
        {
          "output_type": "execute_result",
          "data": {
            "text/plain": [
              "<matplotlib.image.AxesImage at 0x7ff2c0b91240>"
            ]
          },
          "metadata": {},
          "execution_count": 39
        },
        {
          "output_type": "display_data",
          "data": {
            "text/plain": [
              "<Figure size 640x480 with 1 Axes>"
            ],
            "image/png": "[encoded data removed]"
          },
          "metadata": {}
        }
      ]
    },
    {
      "cell_type": "code",
      "source": [
        "val[1][0].shape"
      ],
      "metadata": {
        "id": "I2p6J5MV60jW",
        "colab": {
          "base_uri": "https://localhost:8080/"
        },
        "outputId": "c3175b46-3d58-41c6-9b30-ed224f8095cf"
      },
      "execution_count": 40,
      "outputs": [
        {
          "output_type": "execute_result",
          "data": {
            "text/plain": [
              "(40,)"
            ]
          },
          "metadata": {},
          "execution_count": 40
        }
      ]
    },
    {
      "cell_type": "code",
      "source": [
        "tf.strings.reduce_join([num_to_char(num) for num in val[1][0]])"
      ],
      "metadata": {
        "id": "8OoCCJU-xIGE",
        "colab": {
          "base_uri": "https://localhost:8080/"
        },
        "outputId": "0074f77e-c683-4f4f-c314-4f7ff3b2b9b9"
      },
      "execution_count": 41,
      "outputs": [
        {
          "output_type": "execute_result",
          "data": {
            "text/plain": [
              "<tf.Tensor: shape=(), dtype=string, numpy=b'place blue with p nine again'>"
            ]
          },
          "metadata": {},
          "execution_count": 41
        }
      ]
    },
    {
      "cell_type": "markdown",
      "source": [
        "###3. DESIGN THE DEEP NEURAL NETWORK "
      ],
      "metadata": {
        "id": "UWDEPqHC7Lgo"
      }
    },
    {
      "cell_type": "code",
      "source": [
        "from tensorflow.keras.models import Sequential\n",
        "from tensorflow.keras.layers import Conv3D, LSTM, Dense, Dropout, Bidirectional, MaxPool3D, Activation, Reshape, SpatialDropout3D, BatchNormalization, TimeDistributed, Flatten\n",
        "from tensorflow.keras.optimizers.legacy import Adam\n",
        "from tensorflow.keras.callbacks import ModelCheckpoint, LearningRateScheduler"
      ],
      "metadata": {
        "id": "uH6y4FPM39m-"
      },
      "execution_count": 68,
      "outputs": []
    },
    {
      "cell_type": "code",
      "source": [
        "model = Sequential()\n",
        "model.add(Conv3D(128, 3, input_shape=(75,46,140,1), padding='same'))\n",
        "model.add(Activation('relu'))\n",
        "model.add(MaxPool3D((1,2,2)))\n",
        "\n",
        "model.add(Conv3D(256, 3, padding='same'))\n",
        "model.add(Activation('relu'))\n",
        "model.add(MaxPool3D((1,2,2)))\n",
        "\n",
        "model.add(Conv3D(75, 3, padding='same'))\n",
        "model.add(Activation('relu'))\n",
        "model.add(MaxPool3D((1,2,2)))\n",
        "\n",
        "model.add(TimeDistributed(Flatten()))\n",
        "\n",
        "model.add(Bidirectional(LSTM(128, kernel_initializer='Orthogonal', return_sequences=True)))\n",
        "model.add(Dropout(.5))\n",
        "\n",
        "model.add(Bidirectional(LSTM(128, kernel_initializer='Orthogonal', return_sequences=True)))\n",
        "model.add(Dropout(.5))\n",
        "\n",
        "model.add(Dense(char_to_num.vocabulary_size()+1, kernel_initializer='he_normal', activation='softmax'))"
      ],
      "metadata": {
        "id": "-vem3Xzm849H"
      },
      "execution_count": 69,
      "outputs": []
    },
    {
      "cell_type": "code",
      "source": [
        "model.summary()"
      ],
      "metadata": {
        "id": "0xdxGNPmT-M6",
        "colab": {
          "base_uri": "https://localhost:8080/"
        },
        "outputId": "9def5197-d5c3-4d2d-af2a-e015884f8f4e"
      },
      "execution_count": 70,
      "outputs": [
        {
          "output_type": "stream",
          "name": "stdout",
          "text": [
            "Model: \"sequential_2\"\n",
            "_________________________________________________________________\n",
            " Layer (type)                Output Shape              Param #   \n",
            "=================================================================\n",
            " conv3d_6 (Conv3D)           (None, 75, 46, 140, 128)  3584      \n",
            "                                                                 \n",
            " activation_6 (Activation)   (None, 75, 46, 140, 128)  0         \n",
            "                                                                 \n",
            " max_pooling3d_6 (MaxPooling  (None, 75, 23, 70, 128)  0         \n",
            " 3D)                                                             \n",
            "                                                                 \n",
            " conv3d_7 (Conv3D)           (None, 75, 23, 70, 256)   884992    \n",
            "                                                                 \n",
            " activation_7 (Activation)   (None, 75, 23, 70, 256)   0         \n",
            "                                                                 \n",
            " max_pooling3d_7 (MaxPooling  (None, 75, 11, 35, 256)  0         \n",
            " 3D)                                                             \n",
            "                                                                 \n",
            " conv3d_8 (Conv3D)           (None, 75, 11, 35, 75)    518475    \n",
            "                                                                 \n",
            " activation_8 (Activation)   (None, 75, 11, 35, 75)    0         \n",
            "                                                                 \n",
            " max_pooling3d_8 (MaxPooling  (None, 75, 5, 17, 75)    0         \n",
            " 3D)                                                             \n",
            "                                                                 \n",
            " time_distributed_2 (TimeDis  (None, 75, 6375)         0         \n",
            " tributed)                                                       \n",
            "                                                                 \n",
            " bidirectional_4 (Bidirectio  (None, 75, 256)          6660096   \n",
            " nal)                                                            \n",
            "                                                                 \n",
            " dropout_4 (Dropout)         (None, 75, 256)           0         \n",
            "                                                                 \n",
            " bidirectional_5 (Bidirectio  (None, 75, 256)          394240    \n",
            " nal)                                                            \n",
            "                                                                 \n",
            " dropout_5 (Dropout)         (None, 75, 256)           0         \n",
            "                                                                 \n",
            " dense_2 (Dense)             (None, 75, 41)            10537     \n",
            "                                                                 \n",
            "=================================================================\n",
            "Total params: 8,471,924\n",
            "Trainable params: 8,471,924\n",
            "Non-trainable params: 0\n",
            "_________________________________________________________________\n"
          ]
        }
      ]
    },
    {
      "cell_type": "code",
      "source": [
        "yhat = model.predict(val[0])"
      ],
      "metadata": {
        "id": "BRqhZfJ0UKnT",
        "colab": {
          "base_uri": "https://localhost:8080/"
        },
        "outputId": "283f97d7-41f0-465a-c6e4-8cd269b49a99"
      },
      "execution_count": 71,
      "outputs": [
        {
          "output_type": "stream",
          "name": "stdout",
          "text": [
            "1/1 [==============================] - 2s 2s/step\n"
          ]
        }
      ]
    },
    {
      "cell_type": "code",
      "source": [
        "yhat[0].shape"
      ],
      "metadata": {
        "id": "X4hhFedZVw1O",
        "colab": {
          "base_uri": "https://localhost:8080/"
        },
        "outputId": "33f10a1f-58d2-4265-969b-820b5ea37de3"
      },
      "execution_count": 72,
      "outputs": [
        {
          "output_type": "execute_result",
          "data": {
            "text/plain": [
              "(75, 41)"
            ]
          },
          "metadata": {},
          "execution_count": 72
        }
      ]
    },
    {
      "cell_type": "code",
      "source": [
        "tf.argmax(yhat[0],axis=1)"
      ],
      "metadata": {
        "id": "Aly11qE4V5Xg",
        "colab": {
          "base_uri": "https://localhost:8080/"
        },
        "outputId": "0c71aaa7-bb0c-40d3-a088-c8ded8a7f1fa"
      },
      "execution_count": 73,
      "outputs": [
        {
          "output_type": "execute_result",
          "data": {
            "text/plain": [
              "<tf.Tensor: shape=(75,), dtype=int64, numpy=\n",
              "array([38, 18, 18, 18, 18, 18, 18, 18, 18, 18, 18, 18, 18, 18, 18, 18, 18,\n",
              "       18, 18, 18, 22, 22, 22, 22, 22, 22, 22, 22, 18, 18, 18, 18, 18, 18,\n",
              "       18, 18, 18, 18, 18, 18, 18, 18, 18, 18, 18, 18, 18, 18, 18, 18, 18,\n",
              "       18, 18, 18, 18, 18, 18, 18, 18, 18, 18, 18, 18, 18, 18, 18, 18, 18,\n",
              "       18, 18, 18, 18,  9,  9,  9])>"
            ]
          },
          "metadata": {},
          "execution_count": 73
        }
      ]
    },
    {
      "cell_type": "code",
      "source": [
        "tf.strings.reduce_join([num_to_char(tf.argmax(x)) for x in yhat[0]])"
      ],
      "metadata": {
        "id": "T7_MIv-aVDa1",
        "colab": {
          "base_uri": "https://localhost:8080/"
        },
        "outputId": "5899e630-f593-45e7-876a-9250c3f98e1d"
      },
      "execution_count": 74,
      "outputs": [
        {
          "output_type": "execute_result",
          "data": {
            "text/plain": [
              "<tf.Tensor: shape=(), dtype=string, numpy=b'9rrrrrrrrrrrrrrrrrrrvvvvvvvvrrrrrrrrrrrrrrrrrrrrrrrrrrrrrrrrrrrrrrrrrrrriii'>"
            ]
          },
          "metadata": {},
          "execution_count": 74
        }
      ]
    },
    {
      "cell_type": "code",
      "source": [
        "model.input_shape"
      ],
      "metadata": {
        "id": "jujtVeMcVkFr",
        "colab": {
          "base_uri": "https://localhost:8080/"
        },
        "outputId": "94dc3350-2186-4e23-88d7-c4a902a4013f"
      },
      "execution_count": 75,
      "outputs": [
        {
          "output_type": "execute_result",
          "data": {
            "text/plain": [
              "(None, 75, 46, 140, 1)"
            ]
          },
          "metadata": {},
          "execution_count": 75
        }
      ]
    },
    {
      "cell_type": "code",
      "source": [
        "model.output_shape"
      ],
      "metadata": {
        "id": "vCRjh3oTigyD",
        "colab": {
          "base_uri": "https://localhost:8080/"
        },
        "outputId": "e060cdfa-f2fb-4448-c724-32576d978b43"
      },
      "execution_count": 76,
      "outputs": [
        {
          "output_type": "execute_result",
          "data": {
            "text/plain": [
              "(None, 75, 41)"
            ]
          },
          "metadata": {},
          "execution_count": 76
        }
      ]
    },
    {
      "cell_type": "markdown",
      "source": [
        "###4. SETUP TRAINING OPTIONS AND TRAIN"
      ],
      "metadata": {
        "id": "GBMBdsJ6i9Ij"
      }
    },
    {
      "cell_type": "code",
      "source": [
        "def scheduler(epoch, lr):\n",
        "  if epoch < 30:\n",
        "    return lr\n",
        "  else: return lr * tf.math.exp(-0.1)"
      ],
      "metadata": {
        "id": "e8GD-EtFildL"
      },
      "execution_count": 77,
      "outputs": []
    },
    {
      "cell_type": "code",
      "source": [
        "def CTCLoss(y_true, y_pred):\n",
        "  batch_len = tf.cast(tf.shape(y_true)[0], dtype='int64')\n",
        "  input_len = tf.cast(tf.shape(y_pred)[1], dtype='int64')\n",
        "  label_len = tf.cast(tf.shape(y_true)[1], dtype='int64')\n",
        "\n",
        "  input_len *= tf.ones(shape=(batch_len,1), dtype='int64')\n",
        "  label_len *= tf.ones(shape=(batch_len,1), dtype='int64')\n",
        "\n",
        "  loss = tf.keras.backend.ctc_batch_cost(y_true, y_pred, input_len, label_len)\n",
        "  return loss"
      ],
      "metadata": {
        "id": "t47rZ8vXjucx"
      },
      "execution_count": 78,
      "outputs": []
    },
    {
      "cell_type": "code",
      "source": [
        "class ProduceExample(tf.keras.callbacks.Callback):\n",
        "  def __init__(self, dataset) -> None:\n",
        "    self.dataset = dataset.as_numpy_iterator()\n",
        "\n",
        "  def on_epoch_end(self, epoch, logs=None) -> None:\n",
        "    data = self.dataset.next()\n",
        "    yhat = self.model.predict(data[0])\n",
        "    decoded = tf.keras.backend.ctc_decode(yhat, [75,75], greedy=False)[0][0].numpy()\n",
        "    for x in range(len(yhat)):\n",
        "      print(\"Original:\", tf.strings.reduce_join(num_to_char(data[1][x])).numpy().decode('UTF-8'))\n",
        "      print(\"Prediction:\", tf.strings.reduce_join(num_to_char(decoded[x])).numpy().decode('UTF-8'))\n",
        "      print('~'*100)"
      ],
      "metadata": {
        "id": "mlC9KPWini1y"
      },
      "execution_count": 79,
      "outputs": []
    },
    {
      "cell_type": "code",
      "source": [
        "model.compile(optimizer=Adam(learning_rate=0.0001), loss=CTCLoss)"
      ],
      "metadata": {
        "id": "RC2m0a-7qtfa"
      },
      "execution_count": 80,
      "outputs": []
    },
    {
      "cell_type": "code",
      "source": [
        "checkpoint_callback = ModelCheckpoint(os.path.join('/content','drive','MyDrive','ML-PROJECTS','models','checkpoints'), monitor='loss', save_weights_only=True)"
      ],
      "metadata": {
        "id": "j_6C8hLjq-Xu"
      },
      "execution_count": 81,
      "outputs": []
    },
    {
      "cell_type": "code",
      "source": [
        "schedule_callback = LearningRateScheduler(scheduler)"
      ],
      "metadata": {
        "id": "UtYYWS1sspyj"
      },
      "execution_count": 82,
      "outputs": []
    },
    {
      "cell_type": "code",
      "source": [
        "example_callback = ProduceExample(data)"
      ],
      "metadata": {
        "id": "WvQAhQyJsyWv"
      },
      "execution_count": 83,
      "outputs": []
    },
    {
      "cell_type": "code",
      "source": [
        "model.fit(train,validation_data=test, epochs=100, callbacks=[checkpoint_callback, schedule_callback, example_callback])"
      ],
      "metadata": {
        "id": "CtQ_dyCIs9yQ"
      },
      "execution_count": null,
      "outputs": []
    },
    {
      "cell_type": "code",
      "source": [
        "model.load_weights('/content/drive/MyDrive/ML-PROJECTS/models-checkpoint-96/checkpoint')"
      ],
      "metadata": {
        "id": "yTKBVRhszrdH",
        "colab": {
          "base_uri": "https://localhost:8080/"
        },
        "outputId": "7d39995d-c54d-4174-85e8-7f8e1588a7a5"
      },
      "execution_count": 84,
      "outputs": [
        {
          "output_type": "execute_result",
          "data": {
            "text/plain": [
              "<tensorflow.python.checkpoint.checkpoint.CheckpointLoadStatus at 0x7ff2a1fa2d10>"
            ]
          },
          "metadata": {},
          "execution_count": 84
        }
      ]
    },
    {
      "cell_type": "code",
      "source": [
        "sample = test_data.as_numpy_iterator().next()"
      ],
      "metadata": {
        "id": "jCT0lm5t8u5a",
        "colab": {
          "base_uri": "https://localhost:8080/"
        },
        "outputId": "fc456f16-e4ca-45f9-a1a1-606090f4f6d7"
      },
      "execution_count": 85,
      "outputs": [
        {
          "output_type": "stream",
          "name": "stdout",
          "text": [
            "/content/drive/MyDrive/ML-PROJECTS/data/s1/lgaf5s.mpg\n",
            "/content/drive/MyDrive/ML-PROJECTS/data/s1/pgwe7s.mpg\n",
            "/content/drive/MyDrive/ML-PROJECTS/data/s1/bgit7a.mpg\n",
            "/content/drive/MyDrive/ML-PROJECTS/data/s1/sgii2n.mpg\n",
            "/content/drive/MyDrive/ML-PROJECTS/data/s1/pwwy4p.mpg\n",
            "/content/drive/MyDrive/ML-PROJECTS/data/s1/sgai7s.mpg\n",
            "/content/drive/MyDrive/ML-PROJECTS/data/s1/lwaf1a.mpg\n",
            "/content/drive/MyDrive/ML-PROJECTS/data/s1/pgid7a.mpg\n",
            "/content/drive/MyDrive/ML-PROJECTS/data/s1/pgij8n.mpg\n",
            "/content/drive/MyDrive/ML-PROJECTS/data/s1/pwad2n.mpg\n",
            "/content/drive/MyDrive/ML-PROJECTS/data/s1/srwi5a.mpg\n",
            "/content/drive/MyDrive/ML-PROJECTS/data/s1/swiu5s.mpg\n",
            "/content/drive/MyDrive/ML-PROJECTS/data/s1/bgin1s.mpg\n",
            "/content/drive/MyDrive/ML-PROJECTS/data/s1/pgby5s.mpg\n",
            "/content/drive/MyDrive/ML-PROJECTS/data/s1/swwi8n.mpg\n",
            "/content/drive/MyDrive/ML-PROJECTS/data/s1/lrid9s.mpg\n",
            "/content/drive/MyDrive/ML-PROJECTS/data/s1/pbib7s.mpg\n",
            "/content/drive/MyDrive/ML-PROJECTS/data/s1/praxzp.mpg\n",
            "/content/drive/MyDrive/ML-PROJECTS/data/s1/bbwm4n.mpg\n",
            "/content/drive/MyDrive/ML-PROJECTS/data/s1/pwwk7a.mpg\n",
            "/content/drive/MyDrive/ML-PROJECTS/data/s1/lgbf8n.mpg\n",
            "/content/drive/MyDrive/ML-PROJECTS/data/s1/sbbh2n.mpg\n",
            "/content/drive/MyDrive/ML-PROJECTS/data/s1/sbim8n.mpg\n",
            "/content/drive/MyDrive/ML-PROJECTS/data/s1/swab7s.mpg\n",
            "/content/drive/MyDrive/ML-PROJECTS/data/s1/lriy1s.mpg\n",
            "/content/drive/MyDrive/ML-PROJECTS/data/s1/sgac2n.mpg\n",
            "/content/drive/MyDrive/ML-PROJECTS/data/s1/swwc5s.mpg\n",
            "/content/drive/MyDrive/ML-PROJECTS/data/s1/pgiq5a.mpg\n",
            "/content/drive/MyDrive/ML-PROJECTS/data/s1/sbbh4p.mpg\n",
            "/content/drive/MyDrive/ML-PROJECTS/data/s1/lwbz7a.mpg\n",
            "/content/drive/MyDrive/ML-PROJECTS/data/s1/sgii3s.mpg\n",
            "/content/drive/MyDrive/ML-PROJECTS/data/s1/sgai8p.mpg\n",
            "/content/drive/MyDrive/ML-PROJECTS/data/s1/sbat9a.mpg\n",
            "/content/drive/MyDrive/ML-PROJECTS/data/s1/swab8p.mpg\n",
            "/content/drive/MyDrive/ML-PROJECTS/data/s1/sbaa4n.mpg\n",
            "/content/drive/MyDrive/ML-PROJECTS/data/s1/swwp2n.mpg\n",
            "/content/drive/MyDrive/ML-PROJECTS/data/s1/lray4n.mpg\n",
            "/content/drive/MyDrive/ML-PROJECTS/data/s1/pbio5s.mpg\n",
            "/content/drive/MyDrive/ML-PROJECTS/data/s1/brwn1s.mpg\n",
            "/content/drive/MyDrive/ML-PROJECTS/data/s1/bwba6p.mpg\n",
            "/content/drive/MyDrive/ML-PROJECTS/data/s1/sgwx3s.mpg\n",
            "/content/drive/MyDrive/ML-PROJECTS/data/s1/bris4p.mpg\n",
            "/content/drive/MyDrive/ML-PROJECTS/data/s1/swwv6n.mpg\n",
            "/content/drive/MyDrive/ML-PROJECTS/data/s1/bwbn2n.mpg\n",
            "/content/drive/MyDrive/ML-PROJECTS/data/s1/pwaq2p.mpg\n",
            "/content/drive/MyDrive/ML-PROJECTS/data/s1/pwby1a.mpg\n",
            "/content/drive/MyDrive/ML-PROJECTS/data/s1/pgiq3s.mpg\n",
            "/content/drive/MyDrive/ML-PROJECTS/data/s1/lwwz9s.mpg\n",
            "/content/drive/MyDrive/ML-PROJECTS/data/s1/sbwh8p.mpg\n",
            "/content/drive/MyDrive/ML-PROJECTS/data/s1/lgir9s.mpg\n",
            "/content/drive/MyDrive/ML-PROJECTS/data/s1/srabzn.mpg\n",
            "/content/drive/MyDrive/ML-PROJECTS/data/s1/pwwe1s.mpg\n",
            "/content/drive/MyDrive/ML-PROJECTS/data/s1/swiozn.mpg\n",
            "/content/drive/MyDrive/ML-PROJECTS/data/s1/prajzn.mpg\n",
            "/content/drive/MyDrive/ML-PROJECTS/data/s1/bbal7s.mpg\n",
            "/content/drive/MyDrive/ML-PROJECTS/data/s1/pgbr1s.mpg\n",
            "/content/drive/MyDrive/ML-PROJECTS/data/s1/pbwp9a.mpg\n",
            "/content/drive/MyDrive/ML-PROJECTS/data/s1/lgbs8p.mpg\n",
            "/content/drive/MyDrive/ML-PROJECTS/data/s1/brwa2n.mpg\n",
            "/content/drive/MyDrive/ML-PROJECTS/data/s1/swwp3s.mpg\n",
            "/content/drive/MyDrive/ML-PROJECTS/data/s1/bwim6p.mpg\n",
            "/content/drive/MyDrive/ML-PROJECTS/data/s1/sgwj6p.mpg\n",
            "/content/drive/MyDrive/ML-PROJECTS/data/s1/lgiz5a.mpg\n",
            "/content/drive/MyDrive/ML-PROJECTS/data/s1/lrbr5s.mpg\n",
            "/content/drive/MyDrive/ML-PROJECTS/data/s1/lgir8n.mpg\n",
            "/content/drive/MyDrive/ML-PROJECTS/data/s1/pwij2n.mpg\n",
            "/content/drive/MyDrive/ML-PROJECTS/data/s1/bbaz5s.mpg\n",
            "/content/drive/MyDrive/ML-PROJECTS/data/s1/brif6p.mpg\n",
            "/content/drive/MyDrive/ML-PROJECTS/data/s1/sbbn8p.mpg\n",
            "/content/drive/MyDrive/ML-PROJECTS/data/s1/bwig1s.mpg\n",
            "/content/drive/MyDrive/ML-PROJECTS/data/s1/prwx9a.mpg\n",
            "/content/drive/MyDrive/ML-PROJECTS/data/s1/srbb6p.mpg\n",
            "/content/drive/MyDrive/ML-PROJECTS/data/s1/swbo8n.mpg\n",
            "/content/drive/MyDrive/ML-PROJECTS/data/s1/lwil1a.mpg\n",
            "/content/drive/MyDrive/ML-PROJECTS/data/s1/lgwg3s.mpg\n",
            "/content/drive/MyDrive/ML-PROJECTS/data/s1/pwbk2p.mpg\n",
            "/content/drive/MyDrive/ML-PROJECTS/data/s1/sbig6p.mpg\n",
            "/content/drive/MyDrive/ML-PROJECTS/data/s1/bgbn8n.mpg\n",
            "/content/drive/MyDrive/ML-PROJECTS/data/s1/pwix1s.mpg\n",
            "/content/drive/MyDrive/ML-PROJECTS/data/s1/lbiq2p.mpg\n",
            "/content/drive/MyDrive/ML-PROJECTS/data/s1/lgas2n.mpg\n",
            "/content/drive/MyDrive/ML-PROJECTS/data/s1/lrbe8p.mpg\n",
            "/content/drive/MyDrive/ML-PROJECTS/data/s1/srab1s.mpg\n",
            "/content/drive/MyDrive/ML-PROJECTS/data/s1/lwie5s.mpg\n",
            "/content/drive/MyDrive/ML-PROJECTS/data/s1/swaizn.mpg\n",
            "/content/drive/MyDrive/ML-PROJECTS/data/s1/lbwr3s.mpg\n",
            "/content/drive/MyDrive/ML-PROJECTS/data/s1/swai2p.mpg\n",
            "/content/drive/MyDrive/ML-PROJECTS/data/s1/sgwx5a.mpg\n",
            "/content/drive/MyDrive/ML-PROJECTS/data/s1/bwag6p.mpg\n",
            "/content/drive/MyDrive/ML-PROJECTS/data/s1/pgbr3a.mpg\n",
            "/content/drive/MyDrive/ML-PROJECTS/data/s1/lgaz9a.mpg\n",
            "/content/drive/MyDrive/ML-PROJECTS/data/s1/sgbc7s.mpg\n",
            "/content/drive/MyDrive/ML-PROJECTS/data/s1/pwbk1s.mpg\n",
            "/content/drive/MyDrive/ML-PROJECTS/data/s1/pgid6p.mpg\n",
            "/content/drive/MyDrive/ML-PROJECTS/data/s1/pbib9a.mpg\n",
            "/content/drive/MyDrive/ML-PROJECTS/data/s1/pgaezp.mpg\n",
            "/content/drive/MyDrive/ML-PROJECTS/data/s1/lbbe1s.mpg\n",
            "/content/drive/MyDrive/ML-PROJECTS/data/s1/bgaa7s.mpg\n",
            "/content/drive/MyDrive/ML-PROJECTS/data/s1/lwaz3a.mpg\n",
            "/content/drive/MyDrive/ML-PROJECTS/data/s1/pric4p.mpg\n",
            "/content/drive/MyDrive/ML-PROJECTS/data/s1/sria6n.mpg\n",
            "/content/drive/MyDrive/ML-PROJECTS/data/s1/pgak3s.mpg\n",
            "/content/drive/MyDrive/ML-PROJECTS/data/s1/sbwo3a.mpg\n",
            "/content/drive/MyDrive/ML-PROJECTS/data/s1/pbwx1s.mpg\n",
            "/content/drive/MyDrive/ML-PROJECTS/data/s1/srbo4p.mpg\n",
            "/content/drive/MyDrive/ML-PROJECTS/data/s1/sgai9a.mpg\n",
            "/content/drive/MyDrive/ML-PROJECTS/data/s1/pbwc9s.mpg\n",
            "/content/drive/MyDrive/ML-PROJECTS/data/s1/pwaq3a.mpg\n",
            "/content/drive/MyDrive/ML-PROJECTS/data/s1/swwv7s.mpg\n",
            "/content/drive/MyDrive/ML-PROJECTS/data/s1/lbbq8n.mpg\n",
            "/content/drive/MyDrive/ML-PROJECTS/data/s1/lbij8p.mpg\n",
            "/content/drive/MyDrive/ML-PROJECTS/data/s1/lrbr4n.mpg\n",
            "/content/drive/MyDrive/ML-PROJECTS/data/s1/lgbgzp.mpg\n",
            "/content/drive/MyDrive/ML-PROJECTS/data/s1/lgwg2n.mpg\n"
          ]
        }
      ]
    },
    {
      "cell_type": "code",
      "source": [
        "dir(test)"
      ],
      "metadata": {
        "id": "p05Gp9I1_hEK",
        "colab": {
          "base_uri": "https://localhost:8080/"
        },
        "outputId": "4abf463c-5830-4c2e-fc96-cbae0aeeec10"
      },
      "execution_count": 86,
      "outputs": [
        {
          "output_type": "execute_result",
          "data": {
            "text/plain": [
              "['__class__',\n",
              " '__delattr__',\n",
              " '__dir__',\n",
              " '__doc__',\n",
              " '__eq__',\n",
              " '__format__',\n",
              " '__ge__',\n",
              " '__getattribute__',\n",
              " '__gt__',\n",
              " '__hash__',\n",
              " '__init__',\n",
              " '__init_subclass__',\n",
              " '__iter__',\n",
              " '__le__',\n",
              " '__lt__',\n",
              " '__module__',\n",
              " '__ne__',\n",
              " '__new__',\n",
              " '__next__',\n",
              " '__reduce__',\n",
              " '__reduce_ex__',\n",
              " '__repr__',\n",
              " '__setattr__',\n",
              " '__sizeof__',\n",
              " '__slots__',\n",
              " '__str__',\n",
              " '__subclasshook__',\n",
              " '_iterator',\n",
              " 'next']"
            ]
          },
          "metadata": {},
          "execution_count": 86
        }
      ]
    },
    {
      "cell_type": "code",
      "source": [
        "yhat = model.predict(sample[0])"
      ],
      "metadata": {
        "id": "100iz3_Pujqi",
        "colab": {
          "base_uri": "https://localhost:8080/"
        },
        "outputId": "0776ec57-d7d3-43fd-f36e-c7e419d53a2e"
      },
      "execution_count": 87,
      "outputs": [
        {
          "output_type": "stream",
          "name": "stdout",
          "text": [
            "1/1 [==============================] - 3s 3s/step\n"
          ]
        }
      ]
    },
    {
      "cell_type": "code",
      "source": [
        "print('~'*100, 'REAL TEXT')\n",
        "[tf.strings.reduce_join([num_to_char(word) for word in sentence]) for sentence in sample[1]]"
      ],
      "metadata": {
        "id": "oJvvwQPwwbQa",
        "colab": {
          "base_uri": "https://localhost:8080/"
        },
        "outputId": "6e87b4bd-f67a-475d-f8f6-07b2f8163863"
      },
      "execution_count": 88,
      "outputs": [
        {
          "output_type": "stream",
          "name": "stdout",
          "text": [
            "~~~~~~~~~~~~~~~~~~~~~~~~~~~~~~~~~~~~~~~~~~~~~~~~~~~~~~~~~~~~~~~~~~~~~~~~~~~~~~~~~~~~~~~~~~~~~~~~~~~~ REAL TEXT\n"
          ]
        },
        {
          "output_type": "execute_result",
          "data": {
            "text/plain": [
              "[<tf.Tensor: shape=(), dtype=string, numpy=b'lay red by r four now'>,\n",
              " <tf.Tensor: shape=(), dtype=string, numpy=b'lay green by g zero please'>]"
            ]
          },
          "metadata": {},
          "execution_count": 88
        }
      ]
    },
    {
      "cell_type": "code",
      "source": [
        "decoded = tf.keras.backend.ctc_decode(yhat, input_length=[75,75], greedy=True)[0][0].numpy()\n",
        "decoded"
      ],
      "metadata": {
        "id": "339dHS0Mxpsd",
        "colab": {
          "base_uri": "https://localhost:8080/"
        },
        "outputId": "7ba42416-37e5-48a9-a20e-0bc2f7add8df"
      },
      "execution_count": 89,
      "outputs": [
        {
          "output_type": "execute_result",
          "data": {
            "text/plain": [
              "array([[12,  1, 25, 39, 18,  5,  4, 39,  2, 25, 39, 18, 39,  6, 15, 21,\n",
              "        18, 39, 14, 15, 23,  0,  0,  0,  0,  0,  0,  0,  0,  0,  0,  0,\n",
              "         0,  0,  0,  0,  0,  0,  0,  0, -1, -1, -1, -1, -1, -1, -1, -1,\n",
              "        -1, -1, -1, -1, -1, -1, -1, -1, -1, -1, -1, -1, -1, -1, -1, -1,\n",
              "        -1, -1, -1, -1, -1, -1, -1, -1, -1, -1, -1],\n",
              "       [12,  1, 25, 39,  7, 18,  5,  5, 14, 39,  2, 25, 39,  7, 39, 26,\n",
              "         5, 18, 15, 39, 16, 12,  5,  1, 19,  5,  0,  0,  0,  0,  0,  0,\n",
              "         0,  0,  0,  0,  0,  0,  0,  0, -1, -1, -1, -1, -1, -1, -1, -1,\n",
              "        -1, -1, -1, -1, -1, -1, -1, -1, -1, -1, -1, -1, -1, -1, -1, -1,\n",
              "        -1, -1, -1, -1, -1, -1, -1, -1, -1, -1, -1]])"
            ]
          },
          "metadata": {},
          "execution_count": 89
        }
      ]
    },
    {
      "cell_type": "code",
      "source": [
        "print('~'*100, \"PREDICTIONS\")\n",
        "[tf.strings.reduce_join([num_to_char(word) for word in sentence]) for sentence in decoded]"
      ],
      "metadata": {
        "id": "GRHwJNGWzOE_",
        "colab": {
          "base_uri": "https://localhost:8080/"
        },
        "outputId": "31ee946a-4a9c-434c-e28e-28b29a8d5ba5"
      },
      "execution_count": 90,
      "outputs": [
        {
          "output_type": "stream",
          "name": "stdout",
          "text": [
            "~~~~~~~~~~~~~~~~~~~~~~~~~~~~~~~~~~~~~~~~~~~~~~~~~~~~~~~~~~~~~~~~~~~~~~~~~~~~~~~~~~~~~~~~~~~~~~~~~~~~ PREDICTIONS\n"
          ]
        },
        {
          "output_type": "execute_result",
          "data": {
            "text/plain": [
              "[<tf.Tensor: shape=(), dtype=string, numpy=b'lay red by r four now'>,\n",
              " <tf.Tensor: shape=(), dtype=string, numpy=b'lay green by g zero please'>]"
            ]
          },
          "metadata": {},
          "execution_count": 90
        }
      ]
    },
    {
      "cell_type": "code",
      "source": [
        "sample = load_data(tf.convert_to_tensor('/content/drive/MyDrive/ML-PROJECTS/data/s1/bwbn2n.mpg'))"
      ],
      "metadata": {
        "id": "vQQTwYpc0H-K",
        "colab": {
          "base_uri": "https://localhost:8080/"
        },
        "outputId": "8e575362-3e25-48d5-c951-649f96106041"
      },
      "execution_count": 101,
      "outputs": [
        {
          "output_type": "stream",
          "name": "stdout",
          "text": [
            "/content/drive/MyDrive/ML-PROJECTS/data/s1/bwbn2n.mpg\n"
          ]
        }
      ]
    },
    {
      "cell_type": "code",
      "source": [
        "print('~'*100, 'REAL TEXT')\n",
        "[tf.strings.reduce_join([num_to_char(word) for word in sentence]) for sentence in [sample[1]]]"
      ],
      "metadata": {
        "id": "6uleAjUsFFyj",
        "colab": {
          "base_uri": "https://localhost:8080/"
        },
        "outputId": "0fba9acf-1490-43ca-dc42-ab70d5f1243d"
      },
      "execution_count": 102,
      "outputs": [
        {
          "output_type": "stream",
          "name": "stdout",
          "text": [
            "~~~~~~~~~~~~~~~~~~~~~~~~~~~~~~~~~~~~~~~~~~~~~~~~~~~~~~~~~~~~~~~~~~~~~~~~~~~~~~~~~~~~~~~~~~~~~~~~~~~~ REAL TEXT\n"
          ]
        },
        {
          "output_type": "execute_result",
          "data": {
            "text/plain": [
              "[<tf.Tensor: shape=(), dtype=string, numpy=b'bin white by n two now'>]"
            ]
          },
          "metadata": {},
          "execution_count": 102
        }
      ]
    },
    {
      "cell_type": "code",
      "source": [
        "yhat = model.predict(tf.expand_dims(sample[0], axis=0))"
      ],
      "metadata": {
        "id": "h8nZTr9vFI0d",
        "colab": {
          "base_uri": "https://localhost:8080/"
        },
        "outputId": "5824ba7d-130f-4737-9e98-7072f10e622c"
      },
      "execution_count": 103,
      "outputs": [
        {
          "output_type": "stream",
          "name": "stdout",
          "text": [
            "1/1 [==============================] - 0s 177ms/step\n"
          ]
        }
      ]
    },
    {
      "cell_type": "code",
      "source": [
        "decoded = tf.keras.backend.ctc_decode(yhat, input_length=[75], greedy=True)[0][0].numpy()"
      ],
      "metadata": {
        "id": "lIaFWXt1FNEY"
      },
      "execution_count": 104,
      "outputs": []
    },
    {
      "cell_type": "code",
      "source": [
        "print('~'*100, 'PREDICTIONS')\n",
        "[tf.strings.reduce_join([num_to_char(word) for word in sentence]) for sentence in decoded]"
      ],
      "metadata": {
        "id": "631U-NZVFPc-",
        "colab": {
          "base_uri": "https://localhost:8080/"
        },
        "outputId": "6179b42f-339e-4d22-aafb-d648d180e4b0"
      },
      "execution_count": 105,
      "outputs": [
        {
          "output_type": "stream",
          "name": "stdout",
          "text": [
            "~~~~~~~~~~~~~~~~~~~~~~~~~~~~~~~~~~~~~~~~~~~~~~~~~~~~~~~~~~~~~~~~~~~~~~~~~~~~~~~~~~~~~~~~~~~~~~~~~~~~ PREDICTIONS\n"
          ]
        },
        {
          "output_type": "execute_result",
          "data": {
            "text/plain": [
              "[<tf.Tensor: shape=(), dtype=string, numpy=b'bin white by n two now'>]"
            ]
          },
          "metadata": {},
          "execution_count": 105
        }
      ]
    }
  ]
}