{
  "nbformat": 4,
  "nbformat_minor": 0,
  "metadata": {
    "colab": {
      "provenance": [],
      "gpuType": "T4"
    },
    "kernelspec": {
      "name": "python3",
      "display_name": "Python 3"
    },
    "language_info": {
      "name": "python"
    },
    "accelerator": "GPU",
    "gpuClass": "standard"
  },
  "cells": [
    {
      "cell_type": "code",
      "execution_count": null,
      "metadata": {
        "id": "k3u-uDrB553D"
      },
      "outputs": [],
      "source": [
        "!pip install opencv-python\n",
        "!pip install opencv-contrib-python\n",
        "!pip install gdown"
      ]
    },
    {
      "cell_type": "code",
      "source": [
        "import os\n",
        "import tensorflow as tf, gdown\n",
        "import cv2\n",
        "import numpy as np\n",
        "from typing import List\n",
        "from matplotlib import pyplot as plt\n",
        "import imageio #numpy array to gifs\n",
        "from sklearn.preprocessing import StandardScaler"
      ],
      "metadata": {
        "id": "4_fsQqwQ66hW"
      },
      "execution_count": 2,
      "outputs": []
    },
    {
      "cell_type": "code",
      "source": [
        "len(tf.config.experimental.list_physical_devices('GPU'))"
      ],
      "metadata": {
        "id": "bocr49_Fy3ez",
        "colab": {
          "base_uri": "https://localhost:8080/"
        },
        "outputId": "2b5b7671-1202-463a-e93f-39dab5faeb6a"
      },
      "execution_count": 3,
      "outputs": [
        {
          "output_type": "execute_result",
          "data": {
            "text/plain": [
              "1"
            ]
          },
          "metadata": {},
          "execution_count": 3
        }
      ]
    },
    {
      "cell_type": "code",
      "source": [
        "tf.config.list_physical_devices('GPU')"
      ],
      "metadata": {
        "id": "tLzRG5wQ7sNq"
      },
      "execution_count": null,
      "outputs": []
    },
    {
      "cell_type": "code",
      "source": [
        "physical_devices = tf.config.list_physical_devices('GPU')\n",
        "try:\n",
        "  tf.config.experimental.set_memory_growth(physical_devices[0],True)\n",
        "except:\n",
        "  pass"
      ],
      "metadata": {
        "id": "nAjdJLPJ9x5Y"
      },
      "execution_count": 4,
      "outputs": []
    },
    {
      "cell_type": "markdown",
      "source": [
        "### BUILD DATA LOADING FUNCTIIONS"
      ],
      "metadata": {
        "id": "aLK4ZkXgdw0j"
      }
    },
    {
      "cell_type": "code",
      "source": [
        "import gdown # to grab data @ gdrive"
      ],
      "metadata": {
        "id": "MnPXXKLf_1mT"
      },
      "execution_count": 5,
      "outputs": []
    },
    {
      "cell_type": "code",
      "source": [
        "from google.colab import drive\n",
        "drive.mount('/content/drive')"
      ],
      "metadata": {
        "id": "mES5-753czdn",
        "colab": {
          "base_uri": "https://localhost:8080/"
        },
        "outputId": "b35c3605-c72e-4590-ddd2-f432f0ca0984"
      },
      "execution_count": 6,
      "outputs": [
        {
          "output_type": "stream",
          "name": "stdout",
          "text": [
            "Mounted at /content/drive\n"
          ]
        }
      ]
    },
    {
      "cell_type": "code",
      "source": [
        "url = 'https://drive.google.com/uc?id=1YlvpDLix3S-U8fd-gqRwPcWXAXm8JwjL'\n",
        "# output = 'data.zip'\n",
        "# gdown.download(url, output, quiet=False)\n",
        "# gdown.extractall('data.zip')\n",
        "# !gdown https://drive.google.com/file/d/https://drive.google.com/uc?id=1YlvpDLix3S-U8fd-gqRwPcWXAXm8JwjL/view?usp=sharing"
      ],
      "metadata": {
        "id": "P2EH2jCNAQXL"
      },
      "execution_count": 7,
      "outputs": []
    },
    {
      "cell_type": "code",
      "source": [
        "\n",
        "def load_video(path:str) -> List[float]:\n",
        "  cap = cv2.VideoCapture(path) #cap = ptr to video\n",
        "  frames = []\n",
        "  for _ in range(int(cap.get(cv2.CAP_PROP_FRAME_COUNT))):\n",
        "    ret, frame = cap.read()\n",
        "    # ret = 1 -> read successfully , 0 -> read failed\n",
        "    frame = tf.image.rgb_to_grayscale(frame)\n",
        "    frames.append(frame[190:236,80:220,:])\n",
        "  cap.release()\n",
        "\n",
        "  mean = tf.math.reduce_mean(frames)\n",
        "  std = tf.math.reduce_std(tf.cast(frames, tf.float32))\n",
        "  return tf.cast((frames - mean),tf.float32) / std\n",
        "\n",
        "  # using StandardScaler() to standardize will give different results\n",
        "  # scaler = StandardScaler()\n",
        "  # scaler.fit_transform(frames)"
      ],
      "metadata": {
        "id": "cSA96s7EOvL0"
      },
      "execution_count": 8,
      "outputs": []
    },
    {
      "cell_type": "code",
      "source": [
        "vocab = [x for x in \"abcdefghijklmnopqrstuvwxyz'?!123456789 \"]"
      ],
      "metadata": {
        "id": "UmydNelPbRZb"
      },
      "execution_count": 9,
      "outputs": []
    },
    {
      "cell_type": "code",
      "source": [
        "# \"Out-Of-Vocabulary\" token =  oov_token, if a char is not in vocab \"\" means map the char with 0\n",
        "\n",
        "char_to_num = tf.keras.layers.StringLookup(vocabulary=vocab, oov_token=\"\")\n",
        "num_to_char = tf.keras.layers.StringLookup(\n",
        "    vocabulary=char_to_num.get_vocabulary(), oov_token=\"\", invert=True)\n",
        "\n",
        "print(\n",
        "    f\"The vocabulary is :{char_to_num.get_vocabulary()}\"\n",
        "    f\"(size ={char_to_num.vocabulary_size()})\"\n",
        ")"
      ],
      "metadata": {
        "id": "tOG4k65Yc4jk",
        "colab": {
          "base_uri": "https://localhost:8080/"
        },
        "outputId": "01a3a393-227c-4195-8269-a5b2e10bab78"
      },
      "execution_count": 10,
      "outputs": [
        {
          "output_type": "stream",
          "name": "stdout",
          "text": [
            "The vocabulary is :['', 'a', 'b', 'c', 'd', 'e', 'f', 'g', 'h', 'i', 'j', 'k', 'l', 'm', 'n', 'o', 'p', 'q', 'r', 's', 't', 'u', 'v', 'w', 'x', 'y', 'z', \"'\", '?', '!', '1', '2', '3', '4', '5', '6', '7', '8', '9', ' '](size =40)\n"
          ]
        }
      ]
    },
    {
      "cell_type": "code",
      "source": [
        "print('sme') if vocab == char_to_num.get_vocabulary() else print('not sme')"
      ],
      "metadata": {
        "id": "tJPC9XcCaJig",
        "colab": {
          "base_uri": "https://localhost:8080/"
        },
        "outputId": "a3dff203-35af-4d29-c154-6c4460cdb484"
      },
      "execution_count": 11,
      "outputs": [
        {
          "output_type": "stream",
          "name": "stdout",
          "text": [
            "not sme\n"
          ]
        }
      ]
    },
    {
      "cell_type": "code",
      "source": [
        "char_to_num(['b','y','',' '])"
      ],
      "metadata": {
        "id": "zJreKZV4hO7R",
        "colab": {
          "base_uri": "https://localhost:8080/"
        },
        "outputId": "6d52a650-814c-4c6a-db6b-82ad6ac26200"
      },
      "execution_count": 12,
      "outputs": [
        {
          "output_type": "execute_result",
          "data": {
            "text/plain": [
              "<tf.Tensor: shape=(4,), dtype=int64, numpy=array([ 2, 25,  0, 39])>"
            ]
          },
          "metadata": {},
          "execution_count": 12
        }
      ]
    },
    {
      "cell_type": "code",
      "source": [
        "num_to_char([2, 4, 6])\n",
        "# The b prefix before each string indicates that they are stored as bytes, which is a common way to represent strings in TensorFlow."
      ],
      "metadata": {
        "id": "SADWu_sihdmo",
        "colab": {
          "base_uri": "https://localhost:8080/"
        },
        "outputId": "856b5c69-b3b0-4f74-f49f-f438a371c3a8"
      },
      "execution_count": 13,
      "outputs": [
        {
          "output_type": "execute_result",
          "data": {
            "text/plain": [
              "<tf.Tensor: shape=(3,), dtype=string, numpy=array([b'b', b'd', b'f'], dtype=object)>"
            ]
          },
          "metadata": {},
          "execution_count": 13
        }
      ]
    },
    {
      "cell_type": "code",
      "source": [
        "\n",
        "def load_alignments(path:str) -> List[float]:\n",
        "  with open(path, 'r') as f:\n",
        "    lines = f.readlines()\n",
        "  tokens = []\n",
        "  for line in lines:\n",
        "    words = line.split()\n",
        "    if words[2]!='sil':\n",
        "      tokens = [*tokens,' ',words[2]]\n",
        "\n",
        "  # return char_to_num(list(''.join(tokens)))\n",
        "\n",
        "  # UTF-8 is the most commonly used encoding scheme for Unicode text\n",
        "  return char_to_num(tf.reshape(tf.strings.unicode_split(tokens, input_encoding='UTF-8'),(-1)))[1:]"
      ],
      "metadata": {
        "id": "1LAIaEuIoKgG"
      },
      "execution_count": 14,
      "outputs": []
    },
    {
      "cell_type": "code",
      "source": [
        "load_alignments('/content/drive/MyDrive/ML-PROJECTS/data/alignments/s1/bbaf2n.align')"
      ],
      "metadata": {
        "id": "k6tJEQt2dTk8",
        "colab": {
          "base_uri": "https://localhost:8080/"
        },
        "outputId": "d7e5fc64-d604-4963-84e0-481ec4f0bb63"
      },
      "execution_count": 15,
      "outputs": [
        {
          "output_type": "execute_result",
          "data": {
            "text/plain": [
              "<tf.Tensor: shape=(21,), dtype=int64, numpy=\n",
              "array([ 2,  9, 14, 39,  2, 12, 21,  5, 39,  1, 20, 39,  6, 39, 20, 23, 15,\n",
              "       39, 14, 15, 23])>"
            ]
          },
          "metadata": {},
          "execution_count": 15
        }
      ]
    },
    {
      "cell_type": "code",
      "source": [
        "def load_data(path: str):\n",
        "  path = bytes.decode(path.numpy())\n",
        "  file_name = path.split('/')[-1].split('.')[0]  # path splitting for windows\n",
        "  video_path = os.path.join('/content','drive','MyDrive','ML-PROJECTS','data','s1',f'{file_name}.mpg')\n",
        "  print(video_path)\n",
        "  alignment_path = os.path.join('/content','drive','MyDrive','ML-PROJECTS','data','alignments','s1',f'{file_name}.align')\n",
        "  frames = load_video(video_path)\n",
        "  frames = np.squeeze(frames, axis=-1)\n",
        "  alignments = load_alignments(alignment_path)\n",
        "\n",
        "  return frames, alignments"
      ],
      "metadata": {
        "id": "7ut3wr04oLAX"
      },
      "execution_count": 16,
      "outputs": []
    },
    {
      "cell_type": "code",
      "source": [
        "test_path = '/content/drive/MyDrive/ML-PROJECTS/data/s1/bbaf2n.mpg'"
      ],
      "metadata": {
        "id": "cc9-wPSgxrOu"
      },
      "execution_count": 17,
      "outputs": []
    },
    {
      "cell_type": "code",
      "source": [
        "tf.convert_to_tensor(test_path).numpy().decode('UTF-8').split('/')[-1].split('.')[0]"
      ],
      "metadata": {
        "id": "GeRl4zpRyY2D",
        "colab": {
          "base_uri": "https://localhost:8080/",
          "height": 35
        },
        "outputId": "c0fcf8c0-af3c-4bbc-e78a-bf69c2138b9d"
      },
      "execution_count": 18,
      "outputs": [
        {
          "output_type": "execute_result",
          "data": {
            "text/plain": [
              "'bbaf2n'"
            ],
            "application/vnd.google.colaboratory.intrinsic+json": {
              "type": "string"
            }
          },
          "metadata": {},
          "execution_count": 18
        }
      ]
    },
    {
      "cell_type": "code",
      "source": [
        "frames, alignments = load_data(tf.convert_to_tensor(test_path))\n",
        "plt.imshow(frames[10])"
      ],
      "metadata": {
        "id": "tsNvqjc2yeTG",
        "colab": {
          "base_uri": "https://localhost:8080/",
          "height": 262
        },
        "outputId": "65a10d6a-d4e1-4848-85c8-773b44c93bde"
      },
      "execution_count": 19,
      "outputs": [
        {
          "output_type": "stream",
          "name": "stdout",
          "text": [
            "/content/drive/MyDrive/ML-PROJECTS/data/s1/bbaf2n.mpg\n"
          ]
        },
        {
          "output_type": "execute_result",
          "data": {
            "text/plain": [
              "<matplotlib.image.AxesImage at 0x7f8ec013cd00>"
            ]
          },
          "metadata": {},
          "execution_count": 19
        },
        {
          "output_type": "display_data",
          "data": {
            "text/plain": [
              "<Figure size 640x480 with 1 Axes>"
            ],
            "image/png": "[encoded data removed]"
          },
          "metadata": {}
        }
      ]
    },
    {
      "cell_type": "code",
      "source": [
        "alignments"
      ],
      "metadata": {
        "id": "FDe4M-o06FkY",
        "colab": {
          "base_uri": "https://localhost:8080/"
        },
        "outputId": "22dc3739-38a1-420c-da9d-0adecfa28ed8"
      },
      "execution_count": 20,
      "outputs": [
        {
          "output_type": "execute_result",
          "data": {
            "text/plain": [
              "<tf.Tensor: shape=(21,), dtype=int64, numpy=\n",
              "array([ 2,  9, 14, 39,  2, 12, 21,  5, 39,  1, 20, 39,  6, 39, 20, 23, 15,\n",
              "       39, 14, 15, 23])>"
            ]
          },
          "metadata": {},
          "execution_count": 20
        }
      ]
    },
    {
      "cell_type": "code",
      "source": [
        "# num_to_char(alignments.numpy())\n",
        "tf.strings.reduce_join([bytes.decode(x) for x in num_to_char(alignments.numpy()).numpy() ])"
      ],
      "metadata": {
        "id": "PAWGHSXP0-BO",
        "colab": {
          "base_uri": "https://localhost:8080/"
        },
        "outputId": "0dccfae0-bc90-4458-fb22-36c287b0f9a6"
      },
      "execution_count": 21,
      "outputs": [
        {
          "output_type": "execute_result",
          "data": {
            "text/plain": [
              "<tf.Tensor: shape=(), dtype=string, numpy=b'bin blue at f two now'>"
            ]
          },
          "metadata": {},
          "execution_count": 21
        }
      ]
    },
    {
      "cell_type": "code",
      "source": [
        "def mappable_function(path:str) -> List[str] :\n",
        "  result = tf.py_function(load_data, [path], (tf.float32, tf.int64))\n",
        "  return result\n",
        "\n",
        "# use mappable functions in TensorFlow when you need to apply a transformation to each element of a LARGE dataset.\n",
        "# By using mappable functions in combination with tf.data.Dataset, you can create a pipeline that can efficiently handle large and complex datasets"
      ],
      "metadata": {
        "id": "hfsPL49H2dGw"
      },
      "execution_count": 22,
      "outputs": []
    },
    {
      "cell_type": "markdown",
      "source": [
        "###2. Create Data PipeLine"
      ],
      "metadata": {
        "id": "lwx5BOy25jgC"
      }
    },
    {
      "cell_type": "code",
      "source": [
        "data = tf.data.Dataset.list_files('/content/drive/MyDrive/ML-PROJECTS/data/s1/*.mpg')\n",
        "#  data is a dataset of file paths, not a list of file paths.\n",
        "data = data.shuffle(500, reshuffle_each_iteration=False)\n",
        "data = data.map(mappable_function)\n",
        "print(data)\n",
        "data = data.padded_batch(2, padded_shapes=([75,None,None,None],[40]))\n",
        "data = data.prefetch(tf.data.AUTOTUNE)\n",
        "# splitting data\n",
        "train = data.take(450)\n",
        "test_data = data.skip(450)"
      ],
      "metadata": {
        "id": "A4DVSJ1l5Lr5",
        "colab": {
          "base_uri": "https://localhost:8080/"
        },
        "outputId": "3dbe154e-8d0a-4230-e9d9-92be1426c8c3"
      },
      "execution_count": 31,
      "outputs": [
        {
          "output_type": "stream",
          "name": "stdout",
          "text": [
            "<_MapDataset element_spec=(TensorSpec(shape=<unknown>, dtype=tf.float32, name=None), TensorSpec(shape=<unknown>, dtype=tf.int64, name=None))>\n"
          ]
        }
      ]
    },
    {
      "cell_type": "code",
      "source": [
        "# converts  tf dataset into py generator\n",
        "frames, alignments = data.as_numpy_iterator().next()"
      ],
      "metadata": {
        "id": "ML_H-vn87Nvm"
      },
      "execution_count": null,
      "outputs": []
    },
    {
      "cell_type": "code",
      "source": [
        "len(frames)"
      ],
      "metadata": {
        "id": "qluZWE0DviHR"
      },
      "execution_count": null,
      "outputs": []
    },
    {
      "cell_type": "code",
      "source": [
        "alignments"
      ],
      "metadata": {
        "id": "YF1BomZGsrwe"
      },
      "execution_count": null,
      "outputs": []
    },
    {
      "cell_type": "code",
      "source": [
        "test = data.as_numpy_iterator()\n",
        "val = test.next() \n",
        "val[0].shape\n",
        "# val[0] includes frames, val[1] includes alignments"
      ],
      "metadata": {
        "id": "HFsQ8k0uswPj"
      },
      "execution_count": null,
      "outputs": []
    },
    {
      "cell_type": "code",
      "source": [
        "imageio.mimsave('/content/drive/MyDrive/ML-PROJECTS/data/animation.gif', val[0][1], fps=10)"
      ],
      "metadata": {
        "id": "O2GTT5C7v5f7"
      },
      "execution_count": null,
      "outputs": []
    },
    {
      "cell_type": "code",
      "source": [
        "# 0: videos, 0:1st video of the batch(0-1), 0: return 1st frame in the video(0-74)\n",
        "plt.imshow(val[0][1][70])"
      ],
      "metadata": {
        "id": "iQWdQsyXwtpS"
      },
      "execution_count": null,
      "outputs": []
    },
    {
      "cell_type": "code",
      "source": [
        "val[1][0].shape"
      ],
      "metadata": {
        "id": "I2p6J5MV60jW"
      },
      "execution_count": null,
      "outputs": []
    },
    {
      "cell_type": "code",
      "source": [
        "tf.strings.reduce_join([num_to_char(num) for num in val[1][0]])"
      ],
      "metadata": {
        "id": "8OoCCJU-xIGE"
      },
      "execution_count": null,
      "outputs": []
    },
    {
      "cell_type": "markdown",
      "source": [
        "###3. DESIGN THE DEEP NEURAL NETWORK "
      ],
      "metadata": {
        "id": "UWDEPqHC7Lgo"
      }
    },
    {
      "cell_type": "code",
      "source": [
        "from tensorflow.keras.models import Sequential\n",
        "from tensorflow.keras.layers import Conv3D, LSTM, Dense, Dropout, Bidirectional, MaxPool3D, Activation, Reshape, SpatialDropout3D, BatchNormalization, TimeDistributed, Flatten\n",
        "from tensorflow.keras.optimizers import Adam\n",
        "from tensorflow.keras.callbacks import ModelCheckpoint, LearningRateScheduler"
      ],
      "metadata": {
        "id": "uH6y4FPM39m-"
      },
      "execution_count": null,
      "outputs": []
    },
    {
      "cell_type": "code",
      "source": [
        "model = Sequential()\n",
        "model.add(Conv3D(128, 3, input_shape=(75,46,140,1), padding='same'))\n",
        "model.add(Activation('relu'))\n",
        "model.add(MaxPool3D((1,2,2)))\n",
        "\n",
        "model.add(Conv3D(256, 3, padding='same'))\n",
        "model.add(Activation('relu'))\n",
        "model.add(MaxPool3D((1,2,2)))\n",
        "\n",
        "model.add(Conv3D(75, 3, padding='same'))\n",
        "model.add(Activation('relu'))\n",
        "model.add(MaxPool3D((1,2,2)))\n",
        "\n",
        "model.add(TimeDistributed(Flatten()))\n",
        "\n",
        "model.add(Bidirectional(LSTM(128, kernel_initializer='Orthogonal', return_sequences=True)))\n",
        "model.add(Dropout(.5))\n",
        "\n",
        "model.add(Bidirectional(LSTM(128, kernel_initializer='Orthogonal', return_sequences=True)))\n",
        "model.add(Dropout(.5))\n",
        "\n",
        "model.add(Dense(char_to_num.vocabulary_size()+2, kernel_initializer='he_normal', activation='softmax'))"
      ],
      "metadata": {
        "id": "-vem3Xzm849H"
      },
      "execution_count": null,
      "outputs": []
    },
    {
      "cell_type": "code",
      "source": [
        "model.summary()"
      ],
      "metadata": {
        "id": "0xdxGNPmT-M6"
      },
      "execution_count": null,
      "outputs": []
    },
    {
      "cell_type": "code",
      "source": [
        "yhat = model.predict(val[0])"
      ],
      "metadata": {
        "id": "BRqhZfJ0UKnT"
      },
      "execution_count": null,
      "outputs": []
    },
    {
      "cell_type": "code",
      "source": [
        "yhat[0].shape"
      ],
      "metadata": {
        "id": "X4hhFedZVw1O"
      },
      "execution_count": null,
      "outputs": []
    },
    {
      "cell_type": "code",
      "source": [
        "tf.argmax(yhat[0],axis=1)"
      ],
      "metadata": {
        "id": "Aly11qE4V5Xg"
      },
      "execution_count": null,
      "outputs": []
    },
    {
      "cell_type": "code",
      "source": [
        "tf.strings.reduce_join([num_to_char(tf.argmax(x)) for x in yhat[1]])"
      ],
      "metadata": {
        "id": "T7_MIv-aVDa1"
      },
      "execution_count": null,
      "outputs": []
    },
    {
      "cell_type": "code",
      "source": [
        "model.input_shape"
      ],
      "metadata": {
        "id": "jujtVeMcVkFr"
      },
      "execution_count": null,
      "outputs": []
    },
    {
      "cell_type": "code",
      "source": [
        "model.output_shape"
      ],
      "metadata": {
        "id": "vCRjh3oTigyD"
      },
      "execution_count": null,
      "outputs": []
    },
    {
      "cell_type": "markdown",
      "source": [
        "###4. SETUP TRAINING OPTIONS AND TRAIN"
      ],
      "metadata": {
        "id": "GBMBdsJ6i9Ij"
      }
    },
    {
      "cell_type": "code",
      "source": [
        "def scheduler(epoch, lr):\n",
        "  if epoch < 30:\n",
        "    return lr\n",
        "  else: return lr * tf.math.exp(-0.1)"
      ],
      "metadata": {
        "id": "e8GD-EtFildL"
      },
      "execution_count": null,
      "outputs": []
    },
    {
      "cell_type": "code",
      "source": [
        "def CTCLoss(y_true, y_pred):\n",
        "  batch_len = tf.cast(tf.shape(y_true)[0], dtype='int64')\n",
        "  input_len = tf.cast(tf.shape(y_pred)[1], dtype='int64')\n",
        "  label_len = tf.cast(tf.shape(y_true)[1], dtype='int64')\n",
        "\n",
        "  input_len *= tf.ones(shape=(batch_len,1), dtype='int64')\n",
        "  label_len *= tf.ones(shape=(batch_len,1), dtype='int64')\n",
        "\n",
        "  loss = tf.keras.backend.ctc_batch_cost(y_true, y_pred, input_len, label_len)\n",
        "  return loss"
      ],
      "metadata": {
        "id": "t47rZ8vXjucx"
      },
      "execution_count": null,
      "outputs": []
    },
    {
      "cell_type": "code",
      "source": [
        "class ProduceExample(tf.keras.callbacks.Callback):\n",
        "  def __init__(self, dataset) -> None:\n",
        "    self.dataset = dataset.as_numpy_iterator()\n",
        "\n",
        "  def on_epoch_end(self, epoch, logs=None) -> None:\n",
        "    data = self.dataset.next()\n",
        "    yhat = self.model.predict(data[0])\n",
        "    decoded = tf.keras.backend.ctc_decode(yhat, [75,75], greedy=False)[0][0].numpy()\n",
        "    for x in range(len(yhat)):\n",
        "      print(\"Original:\", tf.strings.reduce_join(num_to_char(data[1][x])).numpy().decode('UTF-8'))\n",
        "      print(\"Prediction:\", tf.strings.reduce_join(num_to_char(decoded[x])).numpy().decode('UTF-8'))\n",
        "      print('~'*100)"
      ],
      "metadata": {
        "id": "mlC9KPWini1y"
      },
      "execution_count": null,
      "outputs": []
    },
    {
      "cell_type": "code",
      "source": [
        "model.compile(optimizer=Adam(learning_rate=0.0001), loss=CTCLoss)"
      ],
      "metadata": {
        "id": "RC2m0a-7qtfa"
      },
      "execution_count": null,
      "outputs": []
    },
    {
      "cell_type": "code",
      "source": [
        "checkpoint_callback = ModelCheckpoint(os.path.join('/content','drive','MyDrive','ML-PROJECTS','models','checkpoints'), monitor='loss', save_weights_only=True)"
      ],
      "metadata": {
        "id": "j_6C8hLjq-Xu"
      },
      "execution_count": null,
      "outputs": []
    },
    {
      "cell_type": "code",
      "source": [
        "schedule_callback = LearningRateScheduler(scheduler)"
      ],
      "metadata": {
        "id": "UtYYWS1sspyj"
      },
      "execution_count": null,
      "outputs": []
    },
    {
      "cell_type": "code",
      "source": [
        "example_callback = ProduceExample(data)"
      ],
      "metadata": {
        "id": "WvQAhQyJsyWv"
      },
      "execution_count": null,
      "outputs": []
    },
    {
      "cell_type": "code",
      "source": [
        "model.fit(train,validation_data=test, epochs=100, callbacks=[checkpoint_callback, schedule_callback, example_callback])"
      ],
      "metadata": {
        "id": "CtQ_dyCIs9yQ"
      },
      "execution_count": null,
      "outputs": []
    },
    {
      "cell_type": "code",
      "source": [
        "model.load_weights('/content/drive/MyDrive/ML-PROJECTS/models-checkpoint-96/checkpoint')"
      ],
      "metadata": {
        "id": "yTKBVRhszrdH"
      },
      "execution_count": null,
      "outputs": []
    },
    {
      "cell_type": "code",
      "source": [
        "sample = test_data.as_numpy_iterator().next()"
      ],
      "metadata": {
        "id": "jCT0lm5t8u5a"
      },
      "execution_count": null,
      "outputs": []
    },
    {
      "cell_type": "code",
      "source": [
        "dir(test)"
      ],
      "metadata": {
        "id": "p05Gp9I1_hEK"
      },
      "execution_count": null,
      "outputs": []
    },
    {
      "cell_type": "code",
      "source": [
        "yhat = model.predict(sample[0])"
      ],
      "metadata": {
        "id": "100iz3_Pujqi"
      },
      "execution_count": null,
      "outputs": []
    },
    {
      "cell_type": "code",
      "source": [
        "print('~'*100, 'REAL TEXT')\n",
        "[tf.strings.reduce_join([num_to_char(word) for word in sentence]) for sentence in sample[1]]"
      ],
      "metadata": {
        "id": "oJvvwQPwwbQa"
      },
      "execution_count": null,
      "outputs": []
    },
    {
      "cell_type": "code",
      "source": [
        "decoded = tf.keras.backend.ctc_decode(yhat, input_length=[75,75], greedy=True)[0][0].numpy()\n",
        "decoded"
      ],
      "metadata": {
        "id": "339dHS0Mxpsd"
      },
      "execution_count": null,
      "outputs": []
    },
    {
      "cell_type": "code",
      "source": [
        "print('~'*100, \"PREDICTIONS\")\n",
        "[tf.strings.reduce_join([num_to_char(word) for word in sentence]) for sentence in decoded]"
      ],
      "metadata": {
        "id": "GRHwJNGWzOE_"
      },
      "execution_count": null,
      "outputs": []
    },
    {
      "cell_type": "code",
      "source": [
        "sample = load_data(tf.convert_to_tensor('/content/drive/MyDrive/ML-PROJECTS/data/s1/sbwu5s.mpg'))"
      ],
      "metadata": {
        "id": "vQQTwYpc0H-K"
      },
      "execution_count": null,
      "outputs": []
    },
    {
      "cell_type": "code",
      "source": [
        "print('~'*100, 'REAL TEXT')\n",
        "[tf.strings.reduce_join([num_to_char(word) for word in sentence]) for sentence in [sample[1]]]"
      ],
      "metadata": {
        "id": "6uleAjUsFFyj"
      },
      "execution_count": null,
      "outputs": []
    },
    {
      "cell_type": "code",
      "source": [
        "yhat = model.predict(tf.expand_dims(sample[0], axis=0))"
      ],
      "metadata": {
        "id": "h8nZTr9vFI0d"
      },
      "execution_count": null,
      "outputs": []
    },
    {
      "cell_type": "code",
      "source": [
        "decoded = tf.keras.backend.ctc_decode(yhat, input_length=[75], greedy=True)[0][0].numpy()"
      ],
      "metadata": {
        "id": "lIaFWXt1FNEY"
      },
      "execution_count": null,
      "outputs": []
    },
    {
      "cell_type": "code",
      "source": [
        "print('~'*100, 'PREDICTIONS')\n",
        "[tf.strings.reduce_join([num_to_char(word) for word in sentence]) for sentence in decoded]"
      ],
      "metadata": {
        "id": "631U-NZVFPc-"
      },
      "execution_count": null,
      "outputs": []
    },
    {
      "cell_type": "code",
      "source": [],
      "metadata": {
        "id": "gIuQy0hNFSEe"
      },
      "execution_count": null,
      "outputs": []
    }
  ]
}